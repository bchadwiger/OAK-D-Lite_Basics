{
 "cells": [
  {
   "cell_type": "markdown",
   "metadata": {},
   "source": [
    "# The Depth-AI Pipeline\n",
    "\n",
    "## Capturing images from the OAK-D-Lite camera\n",
    "\n",
    "(ref: https://learnopencv.com/introduction-to-opencv-ai-kit-and-depthai/)"
   ]
  },
  {
   "cell_type": "code",
   "execution_count": null,
   "metadata": {},
   "outputs": [],
   "source": [
    "import depthai as dai\n",
    "import matplotlib.pyplot as plt\n",
    "\n",
    "import numpy as np\n",
    "import cv2\n",
    "\n",
    "import time"
   ]
  },
  {
   "cell_type": "code",
   "execution_count": null,
   "metadata": {},
   "outputs": [],
   "source": [
    "def grab(device):\n",
    "    queue = device.getOutputQueue(name=\"left\")\n",
    "    frame = queue.get()\n",
    "    imOut = frame.getCvFrame()\n",
    "    return imOut"
   ]
  },
  {
   "cell_type": "code",
   "execution_count": null,
   "metadata": {},
   "outputs": [],
   "source": [
    "# instantiate the pipeline object\n",
    "pipeline = dai.Pipeline()\n",
    "\n",
    "# Create the mono camera node.\n",
    "# This just recognizes the mono camera\n",
    "mono = pipeline.createMonoCamera()\n",
    "\n",
    "# To access the camera, it has to be selected.\n",
    "# This also creates an input node, X-LinkIn, internally,\n",
    "# needed to communicate with the host PC later\n",
    "mono.setBoardSocket(dai.CameraBoardSocket.LEFT)\n",
    "\n",
    "# Create an X-Link output node, needed to obtain the output.\n",
    "# The camera can also have several other outputs, e.g., \n",
    "# another stream from the right mono camera or the RGB camera.\n",
    "# Finally, link the output of the mono camera by putting it \n",
    "# as an input to the X-LinkOut node.\n",
    "xout = pipeline.createXLinkOut()\n",
    "xout.setStreamName('left')\n",
    "mono.out.link(xout.input)\n",
    "\n",
    "# transfer the pipeline to the camera\n",
    "with dai.Device(pipeline) as device:\n",
    "\n",
    "    while True:\n",
    "        imOut = grab(device)\n",
    "        cv2.imshow('frame', imOut)\n",
    "\n",
    "        if cv2.waitKey(1) == ord('q'):\n",
    "            print('QUIT')\n",
    "            break\n",
    "\n",
    "cv2.destroyAllWindows()"
   ]
  },
  {
   "cell_type": "code",
   "execution_count": null,
   "metadata": {},
   "outputs": [],
   "source": []
  }
 ],
 "metadata": {
  "kernelspec": {
   "display_name": "oak",
   "language": "python",
   "name": "oak"
  },
  "language_info": {
   "codemirror_mode": {
    "name": "ipython",
    "version": 3
   },
   "file_extension": ".py",
   "mimetype": "text/x-python",
   "name": "python",
   "nbconvert_exporter": "python",
   "pygments_lexer": "ipython3",
   "version": "3.9.13"
  }
 },
 "nbformat": 4,
 "nbformat_minor": 4
}
