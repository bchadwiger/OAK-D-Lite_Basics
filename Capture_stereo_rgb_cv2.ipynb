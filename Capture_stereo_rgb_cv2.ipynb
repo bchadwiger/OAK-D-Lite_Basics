{
 "cells": [
  {
   "cell_type": "markdown",
   "metadata": {},
   "source": [
    "# The Depth-AI Pipeline\n",
    "\n",
    "## Capturing images from the OAK-D-Lite camera\n",
    "\n",
    "(ref: https://learnopencv.com/introduction-to-opencv-ai-kit-and-depthai/)"
   ]
  },
  {
   "cell_type": "code",
   "execution_count": null,
   "metadata": {},
   "outputs": [],
   "source": [
    "import depthai as dai\n",
    "import matplotlib.pyplot as plt\n",
    "\n",
    "import numpy as np\n",
    "import cv2\n",
    "\n",
    "import time"
   ]
  },
  {
   "cell_type": "code",
   "execution_count": null,
   "metadata": {},
   "outputs": [],
   "source": [
    "# Function to get the frame from the queue, transfer it \n",
    "# to the host and convert it to a numpy array\n",
    "def getFrame(queue):\n",
    "    # Get frame from queue\n",
    "    frame = queue.get()\n",
    "    # Convert frame to OpenCV format and return\n",
    "    return frame.getCvFrame()"
   ]
  },
  {
   "cell_type": "code",
   "execution_count": null,
   "metadata": {},
   "outputs": [],
   "source": [
    "# Function to select mono camera\n",
    "def getMonoCamera(pipeline, isLeft):\n",
    "    # Configure mono camera\n",
    "    mono = pipeline.createMonoCamera()\n",
    "    \n",
    "    # Set camera resolution\n",
    "    mono.setResolution(dai.MonoCameraProperties.SensorResolution.THE_480_P)\n",
    "    if isLeft:\n",
    "        mono.setBoardSocket(dai.CameraBoardSocket.LEFT)\n",
    "    else:\n",
    "        mono.setBoardSocket(dai.CameraBoardSocket.RIGHT)\n",
    "    return mono\n",
    "\n",
    "def getRGBCamera(pipeline):\n",
    "    rgb_cam = pipeline.createColorCamera()\n",
    "    # rgb_cam.setResolution(dai.ColorCameraProperties.SensorResolution.THE_4000X3000)\n",
    "    rgb_cam.setBoardSocket(dai.CameraBoardSocket.RGB)\n",
    "    return rgb_cam"
   ]
  },
  {
   "cell_type": "code",
   "execution_count": null,
   "metadata": {},
   "outputs": [],
   "source": [
    "pipeline = dai.Pipeline()\n",
    "\n",
    "# Set up cameras\n",
    "monoLeft = getMonoCamera(pipeline, isLeft=True)\n",
    "monoRight = getMonoCamera(pipeline, isLeft=False)\n",
    "centerRGB = getRGBCamera(pipeline)\n",
    "\n",
    "# Set output XLink for cameras\n",
    "xoutLeft = pipeline.createXLinkOut()\n",
    "xoutLeft.setStreamName('left')\n",
    "\n",
    "xoutRight = pipeline.createXLinkOut()\n",
    "xoutRight.setStreamName('right')\n",
    "\n",
    "xoutRGB = pipeline.createXLinkOut()\n",
    "xoutRGB.setStreamName('rgb')\n",
    "\n",
    "# Attach cameras to output XLink\n",
    "monoLeft.out.link(xoutLeft.input)\n",
    "monoRight.out.link(xoutRight.input)\n",
    "centerRGB.video.link(xoutRGB.input)"
   ]
  },
  {
   "cell_type": "code",
   "execution_count": null,
   "metadata": {},
   "outputs": [],
   "source": [
    "gap = 20\n",
    "mono_res = (480,640)\n",
    "\n",
    "# Transfer pipeline to device\n",
    "with dai.Device(pipeline) as device:\n",
    "    # Get output queues\n",
    "    leftQueue = device.getOutputQueue(name='left', maxSize=1)\n",
    "    rightQueue = device.getOutputQueue(name='right', maxSize=1)\n",
    "    rgbQueue = device.getOutputQueue(name='rgb', maxSize=1)\n",
    "    \n",
    "    # Set display window name\n",
    "    cv2.namedWindow('Stereo Pair', cv2.WINDOW_NORMAL)\n",
    "    cv2.namedWindow('RGB Camera', cv2.WINDOW_NORMAL)\n",
    "    \n",
    "    stereo_canvas = np.zeros([mono_res[0],mono_res[1]*2+gap])\n",
    "    \n",
    "    # main loop\n",
    "    while True:\n",
    "        # Get frames\n",
    "        leftFrame = getFrame(leftQueue)\n",
    "        rightFrame = getFrame(rightQueue)\n",
    "        rgbFrame = getFrame(rgbQueue)\n",
    "        \n",
    "        stereo_canvas[:,:mono_res[1]] = leftFrame / 255.\n",
    "        stereo_canvas[:,mono_res[1]+gap:] = rightFrame / 255.\n",
    "        \n",
    "        cv2.imshow('Stereo Pair', stereo_canvas)\n",
    "        cv2.imshow('RGB Camera', rgbFrame)\n",
    "        \n",
    "        key = cv2.waitKey(1)\n",
    "        if key == ord('q'):\n",
    "            print('QUIT')\n",
    "            break"
   ]
  },
  {
   "cell_type": "code",
   "execution_count": null,
   "metadata": {},
   "outputs": [],
   "source": [
    "leftFrame"
   ]
  },
  {
   "cell_type": "code",
   "execution_count": null,
   "metadata": {},
   "outputs": [],
   "source": []
  }
 ],
 "metadata": {
  "kernelspec": {
   "display_name": "oak",
   "language": "python",
   "name": "oak"
  },
  "language_info": {
   "codemirror_mode": {
    "name": "ipython",
    "version": 3
   },
   "file_extension": ".py",
   "mimetype": "text/x-python",
   "name": "python",
   "nbconvert_exporter": "python",
   "pygments_lexer": "ipython3",
   "version": "3.9.13"
  }
 },
 "nbformat": 4,
 "nbformat_minor": 4
}
